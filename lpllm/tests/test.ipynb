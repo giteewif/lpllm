{
 "cells": [
  {
   "cell_type": "code",
   "execution_count": 1,
   "id": "ffff97f9",
   "metadata": {},
   "outputs": [
    {
     "name": "stdout",
     "output_type": "stream",
     "text": [
      "Copy cost 1.950127 seconds\n"
     ]
    }
   ],
   "source": [
    "import torch\n",
    "import time\n",
    "\n",
    "time_cost_cpy = time.time()\n",
    "for i in range(45):\n",
    "    t = torch.empty(1024, 1024, 1024, dtype=torch.bfloat16, device=\"cpu\", pin_memory=True)\n",
    "print(f\"Copy cost {time.time()-time_cost_cpy:.6f} seconds\")"
   ]
  },
  {
   "cell_type": "code",
   "execution_count": 19,
   "id": "5413035a",
   "metadata": {},
   "outputs": [
    {
     "name": "stdout",
     "output_type": "stream",
     "text": [
      "Copy cost 0.010676 seconds\n"
     ]
    }
   ],
   "source": [
    "import torch\n",
    "import time\n",
    "t_p = torch.empty(80, 512, 2048, dtype=torch.bfloat16, device=\"cpu\").pin_memory()\n",
    "t = torch.randn(80, 512, 2048, dtype=torch.bfloat16, device=\"cpu\")\n",
    "time_cost_cpy = time.time()\n",
    "t_p.copy_(t)\n",
    "print(f\"Copy cost {time.time()-time_cost_cpy:.6f} seconds\")"
   ]
  },
  {
   "cell_type": "code",
   "execution_count": 18,
   "id": "cd1de52d",
   "metadata": {},
   "outputs": [
    {
     "name": "stdout",
     "output_type": "stream",
     "text": [
      "Pin memory cost 0.010798 seconds\n"
     ]
    }
   ],
   "source": [
    "import torch\n",
    "import time\n",
    "\n",
    "t = torch.randn(80, 512, 2048, dtype=torch.bfloat16, device=\"cpu\")\n",
    "time_cost_pin = time.time()\n",
    "t_p = t.pin_memory()\n",
    "print(f\"Pin memory cost {time.time()-time_cost_pin:.6f} seconds\")\n",
    "\n"
   ]
  },
  {
   "cell_type": "code",
   "execution_count": 8,
   "id": "768e413d",
   "metadata": {},
   "outputs": [
    {
     "name": "stdout",
     "output_type": "stream",
     "text": [
      "Malloc cost 0.003390 seconds\n",
      "Pin memory cost 0.063713 seconds\n",
      "Malloc cost 0.003436 seconds\n",
      "Pin memory cost 0.055083 seconds\n",
      "Malloc cost 0.003306 seconds\n",
      "Pin memory cost 0.054426 seconds\n",
      "Malloc cost 0.003467 seconds\n",
      "Pin memory cost 0.060004 seconds\n",
      "Malloc cost 0.003589 seconds\n",
      "Pin memory cost 0.056130 seconds\n",
      "Malloc cost 0.003326 seconds\n",
      "Pin memory cost 0.058924 seconds\n",
      "Malloc cost 0.003425 seconds\n",
      "Pin memory cost 0.056620 seconds\n",
      "Malloc cost 0.003542 seconds\n",
      "Pin memory cost 0.056593 seconds\n",
      "Malloc cost 0.003601 seconds\n",
      "Pin memory cost 0.056115 seconds\n",
      "Malloc cost 0.003582 seconds\n",
      "Pin memory cost 0.059780 seconds\n",
      "Malloc cost 0.003321 seconds\n",
      "Pin memory cost 0.057028 seconds\n",
      "Malloc cost 0.003325 seconds\n",
      "Pin memory cost 0.059232 seconds\n",
      "Malloc cost 0.003733 seconds\n",
      "Pin memory cost 0.057028 seconds\n",
      "Malloc cost 0.003422 seconds\n",
      "Pin memory cost 0.055898 seconds\n",
      "Malloc cost 0.003330 seconds\n",
      "Pin memory cost 0.057344 seconds\n",
      "Malloc cost 0.003443 seconds\n",
      "Pin memory cost 0.060528 seconds\n",
      "Malloc cost 0.003679 seconds\n",
      "Pin memory cost 0.057598 seconds\n",
      "Malloc cost 0.003472 seconds\n",
      "Pin memory cost 0.057499 seconds\n",
      "Malloc cost 0.003369 seconds\n",
      "Pin memory cost 0.056998 seconds\n",
      "Malloc cost 0.003353 seconds\n",
      "Pin memory cost 0.062437 seconds\n",
      "Malloc cost 0.003740 seconds\n",
      "Pin memory cost 0.058400 seconds\n",
      "Malloc cost 0.003340 seconds\n",
      "Pin memory cost 0.060473 seconds\n",
      "Malloc cost 0.003344 seconds\n",
      "Pin memory cost 0.058243 seconds\n",
      "Malloc cost 0.003440 seconds\n",
      "Pin memory cost 0.060215 seconds\n",
      "Malloc cost 0.003579 seconds\n",
      "Pin memory cost 0.058652 seconds\n",
      "Malloc cost 0.003445 seconds\n",
      "Pin memory cost 0.062102 seconds\n",
      "Malloc cost 0.003546 seconds\n",
      "Pin memory cost 0.058494 seconds\n",
      "Malloc cost 0.003419 seconds\n",
      "Pin memory cost 0.060729 seconds\n",
      "Malloc cost 0.003756 seconds\n",
      "Pin memory cost 0.059770 seconds\n",
      "Malloc cost 0.003350 seconds\n",
      "Pin memory cost 0.057040 seconds\n",
      "Malloc cost 0.003419 seconds\n",
      "Pin memory cost 0.058362 seconds\n",
      "Malloc cost 0.003541 seconds\n",
      "Pin memory cost 0.059116 seconds\n",
      "Malloc cost 0.003627 seconds\n",
      "Pin memory cost 0.058975 seconds\n",
      "Malloc cost 0.003597 seconds\n",
      "Pin memory cost 0.061947 seconds\n",
      "Malloc cost 0.003357 seconds\n",
      "Pin memory cost 0.058802 seconds\n",
      "Malloc cost 0.003375 seconds\n",
      "Pin memory cost 0.056865 seconds\n",
      "Malloc cost 0.003609 seconds\n",
      "Pin memory cost 0.058218 seconds\n",
      "Malloc cost 0.003505 seconds\n",
      "Pin memory cost 0.057893 seconds\n",
      "Malloc cost 0.003413 seconds\n",
      "Pin memory cost 0.058292 seconds\n",
      "Malloc cost 0.003524 seconds\n",
      "Pin memory cost 0.060370 seconds\n",
      "Malloc cost 0.003609 seconds\n",
      "Pin memory cost 0.058055 seconds\n",
      "Malloc cost 0.003378 seconds\n",
      "Pin memory cost 0.056769 seconds\n",
      "Malloc cost 0.003501 seconds\n",
      "Pin memory cost 0.058448 seconds\n",
      "Malloc cost 0.003523 seconds\n",
      "Pin memory cost 0.058181 seconds\n",
      "Malloc cost 0.003746 seconds\n",
      "Pin memory cost 0.058350 seconds\n",
      "cost 2.793216 seconds\n"
     ]
    }
   ],
   "source": [
    "import torch\n",
    "import time\n",
    "time_cost_all = time.time()\n",
    "for i in range(45):\n",
    "    time_m_alloc=time.time()\n",
    "    m = torch.empty(1024*1024*1024*1, dtype=torch.uint8, device=\"cpu\")\n",
    "    print(f\"Malloc cost {time.time()-time_m_alloc:.6f} seconds\")\n",
    "    time_cost = time.time()\n",
    "    m.pin_memory()\n",
    "    print(f\"Pin memory cost {time.time()-time_cost:.6f} seconds\")\n",
    "print(f\"cost {time.time()-time_cost_all:.6f} seconds\")\n"
   ]
  }
 ],
 "metadata": {
  "kernelspec": {
   "display_name": "tfenv",
   "language": "python",
   "name": "python3"
  },
  "language_info": {
   "codemirror_mode": {
    "name": "ipython",
    "version": 3
   },
   "file_extension": ".py",
   "mimetype": "text/x-python",
   "name": "python",
   "nbconvert_exporter": "python",
   "pygments_lexer": "ipython3",
   "version": "3.12.7"
  }
 },
 "nbformat": 4,
 "nbformat_minor": 5
}
